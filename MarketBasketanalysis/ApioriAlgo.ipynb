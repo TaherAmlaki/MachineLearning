{
 "cells": [
  {
   "cell_type": "markdown",
   "id": "06df0289-190c-4004-a5bd-e6a1bbdf496b",
   "metadata": {},
   "source": [
    "c: confidence of X=>Y := |{t| X & Y in t}| / |{t | X in t}|\n",
    "\n",
    "s: support of    X=>Y := |{t| XUY in t}| / T\n",
    "\n",
    "L_k = set of largest k-itemsets (itemset, support)\n",
    "<br/>\n",
    "C_k = set of candiadte k-itemsets (itemset, support)\n",
    "<br/>\n",
    "$\\bar{C}_k = set of candidate k-itemsets when TIDs of the generatig transactions are kept associated with the candiadtes"
   ]
  },
  {
   "cell_type": "code",
   "execution_count": null,
   "id": "c5c54fde-4d42-4f13-ba10-122f387a40be",
   "metadata": {},
   "outputs": [],
   "source": [
    "transactions = [\n",
    "    [\"milk\", \"bread\", \"meat\", \"beer\", \"coffee\"],\n",
    "    [\"rice\", \"mean\"],\n",
    "    [\"beer\", \"milk\", \"sugar\", \"rice\"]\n",
    "]"
   ]
  },
  {
   "cell_type": "code",
   "execution_count": null,
   "id": "b034a887-7bea-4d65-8748-6c809d7dffe3",
   "metadata": {},
   "outputs": [],
   "source": [
    "L_3 = [\n",
    "    [1, 2, 3], \n",
    "    [1, 2, 4], \n",
    "    [1, 3, 4], \n",
    "    [1, 3, 5],\n",
    "    [2, 3, 4]\n",
    "]"
   ]
  },
  {
   "cell_type": "code",
   "execution_count": null,
   "id": "17f53e7a-7ae5-404f-8610-0e030cc5743c",
   "metadata": {},
   "outputs": [],
   "source": []
  },
  {
   "cell_type": "markdown",
   "id": "7ca7435a-1100-44a8-b6cd-2a432d380922",
   "metadata": {},
   "source": [
    "Let's first define our itemset object. A class k_itemset is implemented to capture an itemset which will be a set of items and support \n",
    "of that set. <br/>Furthur we implement repr method to for logging the itemset object, <br/> __eq__ method for being able to create non-repeating combinations and also check \n",
    "if a set of items is in a list of itemset objects, __lt__ for sorting list of itemsets."
   ]
  },
  {
   "cell_type": "code",
   "execution_count": 1,
   "id": "54621898-ce95-494c-80df-fc8f927a0024",
   "metadata": {},
   "outputs": [],
   "source": [
    "from functools import total_ordering\n",
    "\n",
    "\n",
    "@total_ordering\n",
    "class k_itemset:\n",
    "    def __init__(self, itemset: set, support=0):\n",
    "        self.itemset = itemset\n",
    "        self.support = support\n",
    "    \n",
    "    def __repr__(self):\n",
    "        return f\"k_itemset(itemset={self.itemset}, support={self.support})\"\n",
    "    \n",
    "    def __eq__(self, other):\n",
    "        try:\n",
    "            return self.itemset == other.itemset\n",
    "        except AttributeError:\n",
    "            return self.itemset == other\n",
    "    \n",
    "    def __lt__(self, other):\n",
    "        return self.support < other.support\n",
    "    \n",
    "    def __hash__(self):\n",
    "        return hash(tuple(self.itemset))"
   ]
  },
  {
   "cell_type": "markdown",
   "id": "b7c38fa8-a702-4d60-a34f-a3333d527e03",
   "metadata": {},
   "source": [
    "We transform raw transactions, which is a list of list of item names, to a list of set of items with indexes, <br/>\n",
    "and items_map which is a dictionary with item_name as key and item_index as index"
   ]
  },
  {
   "cell_type": "code",
   "execution_count": 5,
   "id": "42f22965-a0f1-4340-9b52-407ecc94601a",
   "metadata": {},
   "outputs": [
    {
     "name": "stdout",
     "output_type": "stream",
     "text": [
      "items_map =>  {'beer': 1, 'bread': 2, 'meat': 3, 'milk': 4, 'rice': 5}\n",
      "transactions encoded =>  [{2, 3, 4}, {1, 2, 5}, {1, 2, 4, 5}, {1, 5}]\n"
     ]
    }
   ],
   "source": [
    "transactions = [\n",
    "    [\"milk\", \"bread\", \"meat\"],\n",
    "    [\"rice\", \"bread\", \"beer\"],\n",
    "    [\"milk\", \"rice\", \"bread\", \"beer\"],\n",
    "    [\"rice\", \"beer\"]\n",
    "]\n",
    "def transform_transactions(transactions):\n",
    "    items = set()\n",
    "    for trx in transactions:\n",
    "        trx = set(map(lambda t: t.lower(), trx))\n",
    "        items = items.union(trx)\n",
    "    items_map = {item: ind for ind, item in enumerate(sorted(items), 1)}\n",
    "    trxs = [set(map(lambda t: items_map[t.lower()], trx)) for trx in transactions]\n",
    "    return items_map, trxs\n",
    "\n",
    "items_map, transactions = transform_transactions(transactions)\n",
    "print(\"items_map => \", items_map)\n",
    "print(\"transactions encoded => \", transactions)"
   ]
  },
  {
   "cell_type": "markdown",
   "id": "e072ede7-66bd-4a4f-b600-247c5dee8c52",
   "metadata": {},
   "source": [
    "=============================================================================================="
   ]
  },
  {
   "cell_type": "markdown",
   "id": "418d9a18-51d4-4b77-85a6-b481b8433b25",
   "metadata": {},
   "source": [
    "Generating candiate list for the first time requires us to go through each transaction, keep track <br/>\n",
    "of each items count, convert the data into list of k_itemsets (defined above), sort it which is not necessary and return it."
   ]
  },
  {
   "cell_type": "code",
   "execution_count": 7,
   "id": "61945b95-3869-4461-9be9-3d093578eebc",
   "metadata": {},
   "outputs": [
    {
     "data": {
      "text/plain": [
       "[k_itemset(itemset={2}, support=3),\n",
       " k_itemset(itemset={1}, support=3),\n",
       " k_itemset(itemset={5}, support=3),\n",
       " k_itemset(itemset={4}, support=2),\n",
       " k_itemset(itemset={3}, support=1)]"
      ]
     },
     "execution_count": 7,
     "metadata": {},
     "output_type": "execute_result"
    }
   ],
   "source": [
    "from collections import defaultdict\n",
    "\n",
    "def generate_c_1(transactions):\n",
    "    c_1 = defaultdict(int)\n",
    "    for trx in transactions:\n",
    "        for item in trx:\n",
    "            c_1[item] += 1\n",
    "    c_1 = [k_itemset({ind}, support) for ind, support in c_1.items()]\n",
    "    c_1.sort(reverse=True)\n",
    "    return c_1\n",
    "\n",
    "c_1 = generate_c_1(transactions)\n",
    "c_1"
   ]
  },
  {
   "cell_type": "markdown",
   "id": "17f5b66d-ec9d-4db2-93e1-88c9758c456a",
   "metadata": {},
   "source": [
    "=============================================================================================================================<br/>\n",
    "Generating list of large itemsets of order k, L_k, from candiate list"
   ]
  },
  {
   "cell_type": "code",
   "execution_count": 8,
   "id": "973f8736-bb34-4470-88d2-4ffcd8966a34",
   "metadata": {},
   "outputs": [
    {
     "data": {
      "text/plain": [
       "[k_itemset(itemset={2}, support=3),\n",
       " k_itemset(itemset={1}, support=3),\n",
       " k_itemset(itemset={5}, support=3),\n",
       " k_itemset(itemset={4}, support=2)]"
      ]
     },
     "execution_count": 8,
     "metadata": {},
     "output_type": "execute_result"
    }
   ],
   "source": [
    "def generate_l_k(c_k, min_support=1):\n",
    "    return [c for c in c_k if min_support <= c.support]\n",
    "\n",
    "L_1 = generate_l_k(c_1, min_support=2)\n",
    "L_1"
   ]
  },
  {
   "cell_type": "markdown",
   "id": "07d8500c-5d77-43e7-b965-b24986ec5392",
   "metadata": {},
   "source": [
    "To generate any 1<k candiate list, we check all combinations of k-1 large itemsets, and check if they <br/>\n",
    "are different in only one element (each has one k-1 itemset object which the other does not), is so we join the two k-1 itemsets <br/>\n",
    "and append to candiate list. Then for each set from first step we check if for all k-1 subsets of it is also large k-1, is it in L k-1.<br/>\n",
    "If any of them is not large then it means that the entire subset is not large and we drop that subset from candiadates."
   ]
  },
  {
   "cell_type": "code",
   "execution_count": 10,
   "id": "d4517105-d5d1-475c-9620-89fb7450fb7f",
   "metadata": {},
   "outputs": [
    {
     "data": {
      "text/plain": [
       "[k_itemset(itemset={2, 4}, support=0),\n",
       " k_itemset(itemset={1, 2}, support=0),\n",
       " k_itemset(itemset={1, 5}, support=0),\n",
       " k_itemset(itemset={1, 4}, support=0),\n",
       " k_itemset(itemset={4, 5}, support=0),\n",
       " k_itemset(itemset={2, 5}, support=0)]"
      ]
     },
     "execution_count": 10,
     "metadata": {},
     "output_type": "execute_result"
    }
   ],
   "source": [
    "from itertools import combinations\n",
    "\n",
    "\n",
    "def find_subsets_n(s, n):\n",
    "    return [set(c) for c in combinations(s, n)]\n",
    "\n",
    "\n",
    "def generate_c_k(L_k_1, k):\n",
    "    c_k = []\n",
    "    for l1, l2 in list(combinations(L_k_1, 2)):\n",
    "        l1_ = l1.itemset\n",
    "        l2_ = l2.itemset\n",
    "        if len(l1_ ^ l2_)==2:\n",
    "            l = l1_ | l2_\n",
    "            c_k.append(l)\n",
    "    c_k = list({k_itemset(c, 0) for c in c_k})\n",
    "    for c in c_k:\n",
    "        for subset in find_subsets_n(c.itemset, k-1):\n",
    "            if subset not in L_k_1:\n",
    "                c_k.remove(c)\n",
    "                break\n",
    "    return c_k\n",
    "c_2 = generate_c_k(L_1, 2)\n",
    "c_2"
   ]
  },
  {
   "cell_type": "markdown",
   "id": "156a701c-ab50-45c0-8285-19018d051264",
   "metadata": {},
   "source": [
    "=============================================================================================================================<br/>\n",
    "Next we create C_bar_k which is the candiates list of size k which its support has been calculated and added or sorted."
   ]
  },
  {
   "cell_type": "code",
   "execution_count": 12,
   "id": "37631fab-5d12-42ed-9563-3ecd7c7c645d",
   "metadata": {},
   "outputs": [
    {
     "data": {
      "text/plain": [
       "[k_itemset(itemset={1, 5}, support=3),\n",
       " k_itemset(itemset={2, 4}, support=2),\n",
       " k_itemset(itemset={1, 2}, support=2),\n",
       " k_itemset(itemset={2, 5}, support=2),\n",
       " k_itemset(itemset={1, 4}, support=1),\n",
       " k_itemset(itemset={4, 5}, support=1)]"
      ]
     },
     "execution_count": 12,
     "metadata": {},
     "output_type": "execute_result"
    }
   ],
   "source": [
    "def generate_c_bar_k(transactions, c_k):\n",
    "    for t in transactions:\n",
    "        c_t = [c for c in c_k if c.itemset.issubset(t)]\n",
    "        for c in c_t:\n",
    "            c.support += 1\n",
    "    c_k.sort(reverse=True)\n",
    "    return c_k\n",
    "c_bar_2 = generate_c_bar_k(transactions, c_2)\n",
    "c_bar_2"
   ]
  },
  {
   "cell_type": "markdown",
   "id": "143f4b40-0c02-48bb-9096-22ce3c23e5bd",
   "metadata": {},
   "source": [
    "=============================================================================================================================<br/>\n",
    "We can put all these steps together in order to generate all the large itemsets"
   ]
  },
  {
   "cell_type": "code",
   "execution_count": 25,
   "id": "35e1d48b-31d8-45cd-a72d-577069e1e71f",
   "metadata": {},
   "outputs": [],
   "source": [
    "from collections import defaultdict\n",
    "from itertools import combinations\n",
    "from functools import total_ordering\n",
    "\n",
    "\n",
    "@total_ordering\n",
    "class k_itemset:\n",
    "    def __init__(self, itemset: set, support=0):\n",
    "        self.itemset = itemset\n",
    "        self.support = support\n",
    "    \n",
    "    def __repr__(self):\n",
    "        return f\"k_itemset(itemset={self.itemset}, support={self.support})\"\n",
    "    \n",
    "    def __eq__(self, other):\n",
    "        try:\n",
    "            return self.itemset == other.itemset\n",
    "        except AttributeError:\n",
    "            return self.itemset == other\n",
    "    \n",
    "    def __lt__(self, other):\n",
    "        return self.support < other.support\n",
    "    \n",
    "    def __hash__(self):\n",
    "        return hash(tuple(self.itemset))\n",
    "    \n",
    "    \n",
    "def find_subsets_n(s, n):\n",
    "    return [set(c) for c in combinations(s, n)]\n",
    "\n",
    "\n",
    "def transform_transactions(transactions):\n",
    "    items = set()\n",
    "    for trx in transactions:\n",
    "        trx = set(map(lambda t: t.lower(), trx))\n",
    "        items = items.union(trx)\n",
    "    items_map = {item: ind for ind, item in enumerate(sorted(items), 1)}\n",
    "    trxs = [set(map(lambda t: items_map[t.lower()], trx)) for trx in transactions]\n",
    "    return items_map, trxs\n",
    "\n",
    "\n",
    "def generate_c_1(transactions):\n",
    "    c_1 = defaultdict(int)\n",
    "    for trx in transactions:\n",
    "        for item in trx:\n",
    "            c_1[item] += 1\n",
    "    c_1 = [k_itemset({ind}, support) for ind, support in c_1.items()]\n",
    "    c_1.sort(reverse=True)\n",
    "    return c_1\n",
    "\n",
    "\n",
    "def generate_c_k(L_k_1, k):\n",
    "    c_k = []\n",
    "    for l1, l2 in list(combinations(L_k_1, 2)):\n",
    "        l1_ = l1.itemset\n",
    "        l2_ = l2.itemset\n",
    "        if len(l1_ ^ l2_)==2:\n",
    "            l = l1_ | l2_\n",
    "            c_k.append(l)\n",
    "    c_k = list({k_itemset(c, 0) for c in c_k})\n",
    "    for c in c_k:\n",
    "        for subset in find_subsets_n(c.itemset, k-1):\n",
    "            if subset not in L_k_1:\n",
    "                c_k.remove(c)\n",
    "                break\n",
    "    return c_k\n",
    "\n",
    "\n",
    "def generate_c_bar_k(transactions, c_k):\n",
    "    for t in transactions:\n",
    "        c_t = [c for c in c_k if c.itemset.issubset(t)]\n",
    "        for c in c_t:\n",
    "            c.support += 1\n",
    "    c_k.sort(reverse=True)\n",
    "    return c_k\n",
    "\n",
    "\n",
    "def generate_l_k(c_k, min_support=1):\n",
    "    return [c for c in c_k if min_support <= c.support]\n",
    "        \n",
    "\n",
    "# ==============================================================\n",
    "transactions = [\n",
    "    [\"milk\", \"bread\", \"meat\"],\n",
    "    [\"rice\", \"bread\", \"beer\"],\n",
    "    [\"milk\", \"rice\", \"bread\", \"beer\"],\n",
    "    [\"rice\", \"beer\"]\n",
    "]\n",
    "min_support = 2\n",
    "\n",
    "items_map, transactions = transform_transactions(transactions)\n",
    "transactions = [\n",
    "    [1, 3, 4],\n",
    "    [2, 3, 5],\n",
    "    [1, 2, 3, 5],\n",
    "    [2, 5]\n",
    "]\n",
    "C_1 = generate_c_1(transactions)\n",
    "L_1 = generate_l_k(C_1, min_support)\n",
    "\n",
    "C = [[], C_1]\n",
    "L = [[], L_1]\n",
    "\n",
    "while (len(L[-1]) != 0):\n",
    "    k = len(L) \n",
    "    c_k = generate_c_k(L[-1], k)\n",
    "    c_k = generate_c_bar_k(transactions, c_k)\n",
    "    if len(c_k) == 0:\n",
    "        break\n",
    "    C.append(c_k)\n",
    "    L_k = generate_l_k(c_k, min_support=min_support)\n",
    "    L.append(L_k)\n",
    "\n",
    "# flattening L, and then sorting it\n",
    "L = [itemset for l_k in L for itemset in l_k]\n",
    "L.sort(reverse=True)"
   ]
  },
  {
   "cell_type": "code",
   "execution_count": 26,
   "id": "898263c3-e2f9-4ab9-97d5-aa0de99c3495",
   "metadata": {},
   "outputs": [
    {
     "data": {
      "text/plain": [
       "[k_itemset(itemset={3}, support=3),\n",
       " k_itemset(itemset={2}, support=3),\n",
       " k_itemset(itemset={5}, support=3),\n",
       " k_itemset(itemset={2, 5}, support=3),\n",
       " k_itemset(itemset={1}, support=2),\n",
       " k_itemset(itemset={2, 3}, support=2),\n",
       " k_itemset(itemset={1, 3}, support=2),\n",
       " k_itemset(itemset={3, 5}, support=2),\n",
       " k_itemset(itemset={2, 3, 5}, support=2)]"
      ]
     },
     "execution_count": 26,
     "metadata": {},
     "output_type": "execute_result"
    }
   ],
   "source": [
    "L"
   ]
  },
  {
   "cell_type": "code",
   "execution_count": 22,
   "id": "9f70a4ff-9b20-4559-9c86-46767970902a",
   "metadata": {},
   "outputs": [
    {
     "data": {
      "text/plain": [
       "[k_itemset(itemset={2, 5}, support=3),\n",
       " k_itemset(itemset={2, 3}, support=2),\n",
       " k_itemset(itemset={1, 3}, support=2),\n",
       " k_itemset(itemset={3, 5}, support=2),\n",
       " k_itemset(itemset={1, 2}, support=1),\n",
       " k_itemset(itemset={1, 5}, support=1)]"
      ]
     },
     "execution_count": 22,
     "metadata": {},
     "output_type": "execute_result"
    }
   ],
   "source": [
    "C[2]"
   ]
  },
  {
   "cell_type": "code",
   "execution_count": 23,
   "id": "0f6513f4-6f6b-4658-b415-dbcbddf9e213",
   "metadata": {},
   "outputs": [
    {
     "data": {
      "text/plain": [
       "[k_itemset(itemset={2, 3, 5}, support=2)]"
      ]
     },
     "execution_count": 23,
     "metadata": {},
     "output_type": "execute_result"
    }
   ],
   "source": [
    "C[3]"
   ]
  },
  {
   "cell_type": "code",
   "execution_count": 24,
   "id": "b5e058a7-270a-4ec2-a231-022f1711bfd6",
   "metadata": {},
   "outputs": [
    {
     "ename": "IndexError",
     "evalue": "list index out of range",
     "output_type": "error",
     "traceback": [
      "\u001b[1;31m---------------------------------------------------------------------------\u001b[0m",
      "\u001b[1;31mIndexError\u001b[0m                                Traceback (most recent call last)",
      "\u001b[1;32m<ipython-input-24-f83bc6165721>\u001b[0m in \u001b[0;36m<module>\u001b[1;34m\u001b[0m\n\u001b[1;32m----> 1\u001b[1;33m \u001b[0mC\u001b[0m\u001b[1;33m[\u001b[0m\u001b[1;36m4\u001b[0m\u001b[1;33m]\u001b[0m\u001b[1;33m\u001b[0m\u001b[1;33m\u001b[0m\u001b[0m\n\u001b[0m",
      "\u001b[1;31mIndexError\u001b[0m: list index out of range"
     ]
    }
   ],
   "source": [
    "C[4]"
   ]
  },
  {
   "cell_type": "code",
   "execution_count": null,
   "id": "582a3718-f596-4387-acc6-20cc6d112b98",
   "metadata": {},
   "outputs": [],
   "source": []
  }
 ],
 "metadata": {
  "kernelspec": {
   "display_name": "Python 3",
   "language": "python",
   "name": "python3"
  },
  "language_info": {
   "codemirror_mode": {
    "name": "ipython",
    "version": 3
   },
   "file_extension": ".py",
   "mimetype": "text/x-python",
   "name": "python",
   "nbconvert_exporter": "python",
   "pygments_lexer": "ipython3",
   "version": "3.8.2"
  }
 },
 "nbformat": 4,
 "nbformat_minor": 5
}
